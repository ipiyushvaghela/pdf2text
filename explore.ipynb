{
 "cells": [
  {
   "cell_type": "code",
   "execution_count": 17,
   "metadata": {},
   "outputs": [],
   "source": [
    "from pdf2image import convert_from_path\n",
    "from pytesseract import image_to_string"
   ]
  },
  {
   "cell_type": "code",
   "execution_count": 18,
   "metadata": {},
   "outputs": [],
   "source": [
    "def convert_pdf_to_img(pdf_file):\n",
    "    \"\"\"\n",
    "    @desc: this function converts a PDF into Image\n",
    "    \n",
    "    @params:\n",
    "        - pdf_file: the file to be converted\n",
    "    \n",
    "    @returns:\n",
    "        - an interable containing image format of all the pages of the PDF\n",
    "    \"\"\"\n",
    "    return convert_from_path(pdf_file)\n",
    "\n",
    "\n",
    "def convert_image_to_text(file):\n",
    "    \"\"\"\n",
    "    @desc: this function extracts text from image\n",
    "    \n",
    "    @params:\n",
    "        - file: the image file to extract the content\n",
    "    \n",
    "    @returns:\n",
    "        - the textual content of single image\n",
    "    \"\"\"\n",
    "    custom_config = r'-l guj'\n",
    "    text = image_to_string(file,config=custom_config)\n",
    "    return text\n",
    "\n",
    "\n",
    "def get_text_from_any_pdf(pdf_file):\n",
    "    \"\"\"\n",
    "    @desc: this function is our final system combining the previous functions\n",
    "    \n",
    "    @params:\n",
    "        - file: the original PDF File\n",
    "    \n",
    "    @returns:\n",
    "        - the textual content of ALL the pages\n",
    "    \"\"\"\n",
    "    images = convert_pdf_to_img(pdf_file)\n",
    "    final_text = \"\"\n",
    "    for pg, img in enumerate(images):\n",
    "        \n",
    "        final_text += convert_image_to_text(img)\n",
    "        #print(\"Page n°{}\".format(pg))\n",
    "        #print(convert_image_to_text(img))\n",
    "    open('output.txt','w').writelines(final_text)\n",
    "    return 'done'"
   ]
  },
  {
   "cell_type": "code",
   "execution_count": 19,
   "metadata": {},
   "outputs": [],
   "source": [
    "\n",
    "path_to_pdf = 'mulidesh.pdf'"
   ]
  },
  {
   "cell_type": "code",
   "execution_count": 20,
   "metadata": {},
   "outputs": [
    {
     "name": "stdout",
     "output_type": "stream",
     "text": [
      "done\n"
     ]
    }
   ],
   "source": [
    "print(get_text_from_any_pdf(path_to_pdf))"
   ]
  }
 ],
 "metadata": {
  "kernelspec": {
   "display_name": "venv4ocr",
   "language": "python",
   "name": "python3"
  },
  "language_info": {
   "codemirror_mode": {
    "name": "ipython",
    "version": 3
   },
   "file_extension": ".py",
   "mimetype": "text/x-python",
   "name": "python",
   "nbconvert_exporter": "python",
   "pygments_lexer": "ipython3",
   "version": "3.10.6"
  },
  "orig_nbformat": 4,
  "vscode": {
   "interpreter": {
    "hash": "472dfa36a66cb535deb249c35053ffc18febff1a8eb76bc7392d9c4c0abfbaf1"
   }
  }
 },
 "nbformat": 4,
 "nbformat_minor": 2
}
